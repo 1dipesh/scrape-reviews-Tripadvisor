{
 "cells": [
  {
   "cell_type": "code",
   "execution_count": 101,
   "metadata": {},
   "outputs": [],
   "source": [
    "import time\n",
    "import os\n",
    "\n",
    "import requests\n",
    "import pandas as pd\n",
    "from bs4 import BeautifulSoup\n",
    "from selenium import webdriver\n",
    "from selenium.common.exceptions import NoSuchElementException\n",
    "from selenium.common.exceptions import StaleElementReferenceException\n",
    "from selenium.webdriver.support.ui import Select\n",
    "from selenium.webdriver.common.action_chains import ActionChains\n"
   ]
  },
  {
   "cell_type": "code",
   "execution_count": 102,
   "metadata": {},
   "outputs": [],
   "source": [
    "def getReviews(reviews, dict_):\n",
    "    for review in reviews:\n",
    "        review_head = review.find(\"a\", class_=\"fCitC\").get_text()\n",
    "        review = review.find(\"q\", class_=\"XllAv H4 _a\").get_text()\n",
    "        dict_[review_head] = review"
   ]
  },
  {
   "cell_type": "code",
   "execution_count": 103,
   "metadata": {},
   "outputs": [],
   "source": [
    "def getNegativeReviews(hotel_url):\n",
    "    negativeReviews = {}\n",
    "    \n",
    "    driver = webdriver.Firefox()\n",
    "    driver.get(hotel_url)\n",
    "    \n",
    "    driver.find_element_by_xpath(f\".//label[contains(text(),'Poor')]\").click()\n",
    "    driver.find_element_by_xpath(f\".//label[contains(text(),'Terrible')]\").click()\n",
    "\n",
    "    time.sleep(3)\n",
    "\n",
    "    page_source = driver.page_source\n",
    "    soup = BeautifulSoup(page_source, 'html.parser')\n",
    "    reviews = soup.find_all(\"div\", class_=\"cWwQK MC R2 Gi z Z BB dXjiy\")\n",
    "    \n",
    "    while True:        \n",
    "        getReviews(reviews, negativeReviews)        \n",
    "        \n",
    "        pagination = soup.find(\"div\", class_=\"ui_pagination is-centered\")\n",
    "        next_button = pagination.find(\"a\", class_=\"ui_button nav next primary\")\n",
    "        \n",
    "        if next_button:\n",
    "            if \"disabled\" not in next_button['class']:\n",
    "                driver.find_element_by_link_text(\"Next\").click()                    \n",
    "                time.sleep(3)       \n",
    "                page_source = driver.page_source\n",
    "                soup = BeautifulSoup(page_source, 'html.parser')\n",
    "                reviews = soup.find_all(\"div\", class_=\"cWwQK MC R2 Gi z Z BB dXjiy\")\n",
    "                continue\n",
    "            else:\n",
    "                break\n",
    "\n",
    "        break\n",
    "    \n",
    "    driver.close()\n",
    "    return negativeReviews\n",
    "    "
   ]
  },
  {
   "cell_type": "code",
   "execution_count": 104,
   "metadata": {},
   "outputs": [],
   "source": [
    "hotel_url = 'https://www.tripadvisor.com/Hotel_Review-g293890-d3210915-Reviews-Hotel_Yambu-Kathmandu_Kathmandu_Valley_Bagmati_Zone_Central_Region.html'\n",
    "negative = getNegativeReviews(hotel_url)"
   ]
  },
  {
   "cell_type": "code",
   "execution_count": 105,
   "metadata": {},
   "outputs": [],
   "source": [
    "negativeDataframe = pd.DataFrame({'heading': negative.keys(),\n",
    "                                  'reviews': negative.values()})"
   ]
  },
  {
   "cell_type": "code",
   "execution_count": 106,
   "metadata": {},
   "outputs": [
    {
     "data": {
      "text/html": [
       "<div>\n",
       "<style scoped>\n",
       "    .dataframe tbody tr th:only-of-type {\n",
       "        vertical-align: middle;\n",
       "    }\n",
       "\n",
       "    .dataframe tbody tr th {\n",
       "        vertical-align: top;\n",
       "    }\n",
       "\n",
       "    .dataframe thead th {\n",
       "        text-align: right;\n",
       "    }\n",
       "</style>\n",
       "<table border=\"1\" class=\"dataframe\">\n",
       "  <thead>\n",
       "    <tr style=\"text-align: right;\">\n",
       "      <th></th>\n",
       "      <th>heading</th>\n",
       "      <th>reviews</th>\n",
       "    </tr>\n",
       "  </thead>\n",
       "  <tbody>\n",
       "    <tr>\n",
       "      <th>0</th>\n",
       "      <td>Dirty &amp; cheated</td>\n",
       "      <td>We stayed there for two night, after 15 days i...</td>\n",
       "    </tr>\n",
       "    <tr>\n",
       "      <th>1</th>\n",
       "      <td>Very Terrible.</td>\n",
       "      <td>The toilet won't flush and the wifi usually do...</td>\n",
       "    </tr>\n",
       "    <tr>\n",
       "      <th>2</th>\n",
       "      <td>Not good</td>\n",
       "      <td>The room was dirty and the bathroom smelled un...</td>\n",
       "    </tr>\n",
       "    <tr>\n",
       "      <th>3</th>\n",
       "      <td>Cheep and Nasty</td>\n",
       "      <td>Day One , no hot water we paid for a Deluxe ro...</td>\n",
       "    </tr>\n",
       "    <tr>\n",
       "      <th>4</th>\n",
       "      <td>Stay somewhere else</td>\n",
       "      <td>Dirty, needs a good clean. Sporadic wifi. Room...</td>\n",
       "    </tr>\n",
       "    <tr>\n",
       "      <th>5</th>\n",
       "      <td>Beware, your booking might be declined</td>\n",
       "      <td>It was a very bad experience for us. we have a...</td>\n",
       "    </tr>\n",
       "    <tr>\n",
       "      <th>6</th>\n",
       "      <td>Friendly Staff but Rough/Poor Infrastructure</td>\n",
       "      <td>Extremely friendly service. They helped us out...</td>\n",
       "    </tr>\n",
       "    <tr>\n",
       "      <th>7</th>\n",
       "      <td>Mould in bedroom and bathroom PLUS no water</td>\n",
       "      <td>Yambu Hotel was a massive disappointment, so m...</td>\n",
       "    </tr>\n",
       "    <tr>\n",
       "      <th>8</th>\n",
       "      <td>Low quality in good location.</td>\n",
       "      <td>Low quality in good location. There was No ele...</td>\n",
       "    </tr>\n",
       "    <tr>\n",
       "      <th>9</th>\n",
       "      <td>ganesh shakkarwar avoid this hotel in kathmandu</td>\n",
       "      <td>we were at yambu thamel from 6th to 8th feb 15...</td>\n",
       "    </tr>\n",
       "    <tr>\n",
       "      <th>10</th>\n",
       "      <td>No hot water and very little heat</td>\n",
       "      <td>Kathmandu in winter gets down to freezing yet ...</td>\n",
       "    </tr>\n",
       "    <tr>\n",
       "      <th>11</th>\n",
       "      <td>Nice and clean, but badly managed.</td>\n",
       "      <td>The worse experience we have had in our trip o...</td>\n",
       "    </tr>\n",
       "  </tbody>\n",
       "</table>\n",
       "</div>"
      ],
      "text/plain": [
       "                                            heading  \\\n",
       "0                                   Dirty & cheated   \n",
       "1                                    Very Terrible.   \n",
       "2                                          Not good   \n",
       "3                                   Cheep and Nasty   \n",
       "4                               Stay somewhere else   \n",
       "5            Beware, your booking might be declined   \n",
       "6      Friendly Staff but Rough/Poor Infrastructure   \n",
       "7       Mould in bedroom and bathroom PLUS no water   \n",
       "8                     Low quality in good location.   \n",
       "9   ganesh shakkarwar avoid this hotel in kathmandu   \n",
       "10                No hot water and very little heat   \n",
       "11               Nice and clean, but badly managed.   \n",
       "\n",
       "                                              reviews  \n",
       "0   We stayed there for two night, after 15 days i...  \n",
       "1   The toilet won't flush and the wifi usually do...  \n",
       "2   The room was dirty and the bathroom smelled un...  \n",
       "3   Day One , no hot water we paid for a Deluxe ro...  \n",
       "4   Dirty, needs a good clean. Sporadic wifi. Room...  \n",
       "5   It was a very bad experience for us. we have a...  \n",
       "6   Extremely friendly service. They helped us out...  \n",
       "7   Yambu Hotel was a massive disappointment, so m...  \n",
       "8   Low quality in good location. There was No ele...  \n",
       "9   we were at yambu thamel from 6th to 8th feb 15...  \n",
       "10  Kathmandu in winter gets down to freezing yet ...  \n",
       "11  The worse experience we have had in our trip o...  "
      ]
     },
     "execution_count": 106,
     "metadata": {},
     "output_type": "execute_result"
    }
   ],
   "source": [
    "negativeDataframe"
   ]
  },
  {
   "cell_type": "code",
   "execution_count": 107,
   "metadata": {},
   "outputs": [],
   "source": [
    "def concatExcel():\n",
    "    negativeExcel = pd.read_excel('negative.xlsx', header=0, index_col=0)\n",
    "    negativeConcat = pd.concat([negativeExcel, negativeDataframe])\n",
    "    negativeConcat.to_excel('negative.xlsx')"
   ]
  },
  {
   "cell_type": "code",
   "execution_count": 108,
   "metadata": {},
   "outputs": [],
   "source": [
    "concatExcel()"
   ]
  },
  {
   "cell_type": "code",
   "execution_count": null,
   "metadata": {},
   "outputs": [],
   "source": []
  }
 ],
 "metadata": {
  "kernelspec": {
   "display_name": "pythonDSAI",
   "language": "python",
   "name": "pythondsai"
  },
  "language_info": {
   "codemirror_mode": {
    "name": "ipython",
    "version": 3
   },
   "file_extension": ".py",
   "mimetype": "text/x-python",
   "name": "python",
   "nbconvert_exporter": "python",
   "pygments_lexer": "ipython3",
   "version": "3.8.10"
  }
 },
 "nbformat": 4,
 "nbformat_minor": 4
}
