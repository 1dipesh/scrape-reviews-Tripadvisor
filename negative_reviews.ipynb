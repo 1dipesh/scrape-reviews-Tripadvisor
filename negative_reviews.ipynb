{
 "cells": [
  {
   "cell_type": "code",
   "execution_count": 44,
   "metadata": {},
   "outputs": [],
   "source": [
    "import time\n",
    "import os\n",
    "\n",
    "import requests\n",
    "import pandas as pd\n",
    "from bs4 import BeautifulSoup\n",
    "from selenium import webdriver\n",
    "from selenium.common.exceptions import NoSuchElementException\n",
    "from selenium.common.exceptions import StaleElementReferenceException\n",
    "from selenium.webdriver.support.ui import Select\n",
    "from selenium.webdriver.common.action_chains import ActionChains\n"
   ]
  },
  {
   "cell_type": "code",
   "execution_count": 45,
   "metadata": {},
   "outputs": [],
   "source": [
    "def getReviews(reviews, dict_):\n",
    "    for review in reviews:\n",
    "        review_head = review.find(\"a\", class_=\"fCitC\").get_text()\n",
    "        review = review.find(\"q\", class_=\"XllAv H4 _a\").get_text()\n",
    "        dict_[review_head] = review"
   ]
  },
  {
   "cell_type": "code",
   "execution_count": 46,
   "metadata": {},
   "outputs": [],
   "source": [
    "def getNegativeReviews(hotel_url):\n",
    "    negativeReviews = {}\n",
    "    \n",
    "    driver = webdriver.Firefox()\n",
    "    driver.get(hotel_url)\n",
    "    \n",
    "    driver.find_element_by_xpath(f\".//label[contains(text(),'Poor')]\").click()\n",
    "    driver.find_element_by_xpath(f\".//label[contains(text(),'Terrible')]\").click()\n",
    "\n",
    "    time.sleep(3)\n",
    "\n",
    "    page_source = driver.page_source\n",
    "    soup = BeautifulSoup(page_source, 'html.parser')\n",
    "    reviews = soup.find_all(\"div\", class_=\"cWwQK MC R2 Gi z Z BB dXjiy\")\n",
    "    \n",
    "    while True:        \n",
    "        getReviews(reviews, negativeReviews)        \n",
    "        \n",
    "        pagination = soup.find(\"div\", class_=\"ui_pagination is-centered\")\n",
    "        next_button = pagination.find(\"a\", class_=\"ui_button nav next primary\")\n",
    "        \n",
    "        if next_button:\n",
    "            if \"disabled\" not in next_button['class']:\n",
    "                driver.find_element_by_link_text(\"Next\").click()                    \n",
    "                time.sleep(3)       \n",
    "                page_source = driver.page_source\n",
    "                soup = BeautifulSoup(page_source, 'html.parser')\n",
    "                reviews = soup.find_all(\"div\", class_=\"cWwQK MC R2 Gi z Z BB dXjiy\")\n",
    "                continue\n",
    "            else:\n",
    "                break\n",
    "\n",
    "        break\n",
    "    \n",
    "    driver.close()\n",
    "    return negativeReviews\n",
    "    "
   ]
  },
  {
   "cell_type": "code",
   "execution_count": 47,
   "metadata": {},
   "outputs": [],
   "source": [
    "hotel_url = 'https://www.tripadvisor.com/Hotel_Review-g293890-d305977-Reviews-Hotel_Yak_Yeti-Kathmandu_Kathmandu_Valley_Bagmati_Zone_Central_Region.html'\n",
    "negative = getNegativeReviews(hotel_url)"
   ]
  },
  {
   "cell_type": "code",
   "execution_count": 48,
   "metadata": {},
   "outputs": [],
   "source": [
    "negativeDataframe = pd.DataFrame({'heading': negative.keys(),\n",
    "                                  'reviews': negative.values()})"
   ]
  },
  {
   "cell_type": "code",
   "execution_count": 49,
   "metadata": {},
   "outputs": [
    {
     "data": {
      "text/html": [
       "<div>\n",
       "<style scoped>\n",
       "    .dataframe tbody tr th:only-of-type {\n",
       "        vertical-align: middle;\n",
       "    }\n",
       "\n",
       "    .dataframe tbody tr th {\n",
       "        vertical-align: top;\n",
       "    }\n",
       "\n",
       "    .dataframe thead th {\n",
       "        text-align: right;\n",
       "    }\n",
       "</style>\n",
       "<table border=\"1\" class=\"dataframe\">\n",
       "  <thead>\n",
       "    <tr style=\"text-align: right;\">\n",
       "      <th></th>\n",
       "      <th>heading</th>\n",
       "      <th>reviews</th>\n",
       "    </tr>\n",
       "  </thead>\n",
       "  <tbody>\n",
       "    <tr>\n",
       "      <th>0</th>\n",
       "      <td>Not so great experience</td>\n",
       "      <td>I had to stay at the hotel for five days compu...</td>\n",
       "    </tr>\n",
       "    <tr>\n",
       "      <th>1</th>\n",
       "      <td>NEVER AGAIN</td>\n",
       "      <td>We had a regional conference for Asia &amp; pacifi...</td>\n",
       "    </tr>\n",
       "    <tr>\n",
       "      <th>2</th>\n",
       "      <td>Worst Hospitality</td>\n",
       "      <td>One of the worst five star hospitality till th...</td>\n",
       "    </tr>\n",
       "    <tr>\n",
       "      <th>3</th>\n",
       "      <td>The room was a let down it does not feel 5 star</td>\n",
       "      <td>It has a grant entrance and the foyer is amazi...</td>\n",
       "    </tr>\n",
       "    <tr>\n",
       "      <th>4</th>\n",
       "      <td>Dilapidated rooms</td>\n",
       "      <td>We were booked at the Yak/Yeti as part of the ...</td>\n",
       "    </tr>\n",
       "    <tr>\n",
       "      <th>...</th>\n",
       "      <td>...</td>\n",
       "      <td>...</td>\n",
       "    </tr>\n",
       "    <tr>\n",
       "      <th>141</th>\n",
       "      <td>Tri to the mountain Kingdom</td>\n",
       "      <td>We stayed in this hotel Yak and Yeti 19th and ...</td>\n",
       "    </tr>\n",
       "    <tr>\n",
       "      <th>142</th>\n",
       "      <td>Fillthy bedspreads and no response whatsoever ...</td>\n",
       "      <td>Stayed here for two nights with a group tourin...</td>\n",
       "    </tr>\n",
       "    <tr>\n",
       "      <th>143</th>\n",
       "      <td>A bottle of water is more valuable than the gu...</td>\n",
       "      <td>My experience has been really pathetic. I almo...</td>\n",
       "    </tr>\n",
       "    <tr>\n",
       "      <th>144</th>\n",
       "      <td>Severe Mildew Problems</td>\n",
       "      <td>My daughter and I were looking forward to stay...</td>\n",
       "    </tr>\n",
       "    <tr>\n",
       "      <th>145</th>\n",
       "      <td>Rooms was terrible</td>\n",
       "      <td>I was booked into the Yak and Yeti for busines...</td>\n",
       "    </tr>\n",
       "  </tbody>\n",
       "</table>\n",
       "<p>146 rows × 2 columns</p>\n",
       "</div>"
      ],
      "text/plain": [
       "                                               heading  \\\n",
       "0                              Not so great experience   \n",
       "1                                          NEVER AGAIN   \n",
       "2                                    Worst Hospitality   \n",
       "3      The room was a let down it does not feel 5 star   \n",
       "4                                    Dilapidated rooms   \n",
       "..                                                 ...   \n",
       "141                        Tri to the mountain Kingdom   \n",
       "142  Fillthy bedspreads and no response whatsoever ...   \n",
       "143  A bottle of water is more valuable than the gu...   \n",
       "144                             Severe Mildew Problems   \n",
       "145                                 Rooms was terrible   \n",
       "\n",
       "                                               reviews  \n",
       "0    I had to stay at the hotel for five days compu...  \n",
       "1    We had a regional conference for Asia & pacifi...  \n",
       "2    One of the worst five star hospitality till th...  \n",
       "3    It has a grant entrance and the foyer is amazi...  \n",
       "4    We were booked at the Yak/Yeti as part of the ...  \n",
       "..                                                 ...  \n",
       "141  We stayed in this hotel Yak and Yeti 19th and ...  \n",
       "142  Stayed here for two nights with a group tourin...  \n",
       "143  My experience has been really pathetic. I almo...  \n",
       "144  My daughter and I were looking forward to stay...  \n",
       "145  I was booked into the Yak and Yeti for busines...  \n",
       "\n",
       "[146 rows x 2 columns]"
      ]
     },
     "execution_count": 49,
     "metadata": {},
     "output_type": "execute_result"
    }
   ],
   "source": [
    "negativeDataframe"
   ]
  },
  {
   "cell_type": "code",
   "execution_count": 50,
   "metadata": {},
   "outputs": [],
   "source": [
    "def concatExcel():\n",
    "    negativeExcel = pd.read_excel('negative.xlsx', header=0, index_col=0)\n",
    "    negativeConcat = pd.concat([negativeExcel, negativeDataframe])\n",
    "    negativeConcat.to_excel('negative.xlsx')"
   ]
  },
  {
   "cell_type": "code",
   "execution_count": 51,
   "metadata": {},
   "outputs": [],
   "source": [
    "concatExcel()"
   ]
  },
  {
   "cell_type": "code",
   "execution_count": null,
   "metadata": {},
   "outputs": [],
   "source": []
  }
 ],
 "metadata": {
  "kernelspec": {
   "display_name": "pythonDSAI",
   "language": "python",
   "name": "pythondsai"
  },
  "language_info": {
   "codemirror_mode": {
    "name": "ipython",
    "version": 3
   },
   "file_extension": ".py",
   "mimetype": "text/x-python",
   "name": "python",
   "nbconvert_exporter": "python",
   "pygments_lexer": "ipython3",
   "version": "3.8.10"
  }
 },
 "nbformat": 4,
 "nbformat_minor": 4
}
